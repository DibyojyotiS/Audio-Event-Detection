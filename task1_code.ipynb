{
  "nbformat": 4,
  "nbformat_minor": 0,
  "metadata": {
    "language_info": {
      "codemirror_mode": {
        "name": "ipython",
        "version": 3
      },
      "file_extension": ".py",
      "mimetype": "text/x-python",
      "name": "python",
      "nbconvert_exporter": "python",
      "pygments_lexer": "ipython3",
      "version": "3.7.6-final"
    },
    "orig_nbformat": 2,
    "kernelspec": {
      "name": "python3",
      "display_name": "Python 3",
      "language": "python"
    },
    "colab": {
      "name": "task1_code.ipynb",
      "provenance": [],
      "collapsed_sections": []
    },
    "accelerator": "GPU"
  },
  "cells": [
    {
      "cell_type": "code",
      "metadata": {
        "colab": {
          "base_uri": "https://localhost:8080/"
        },
        "id": "-DCmBla9VDqz",
        "outputId": "2bfdef5d-7f8d-446a-a5b2-c6dedd85ae9b"
      },
      "source": [
        "from google.colab import drive # run this only on colab\r\n",
        "drive.mount('/content/gdrive')\r\n",
        "%cd gdrive/MyDrive/Jellyfish/code_and_data/\r\n",
        "%ls\r\n",
        "!nvidia-smi"
      ],
      "execution_count": null,
      "outputs": [
        {
          "output_type": "stream",
          "text": [
            "Drive already mounted at /content/gdrive; to attempt to forcibly remount, call drive.mount(\"/content/gdrive\", force_remount=True).\n",
            "/content/gdrive/MyDrive/Jellyfish/code_and_data\n",
            " bettersplit.py        helper_funcs.py        \u001b[0m\u001b[01;34m__pycache__\u001b[0m/      task1.ipynb\n",
            " \u001b[01;34mcellar\u001b[0m/               hsweeptrain_task1.py   randsplit.py      task2.ipynb\n",
            " extract_features.py   jellyGPU.ipynb        \u001b[01;34m'#shared_train'\u001b[0m/   utils.py\n",
            "Thu Dec 17 08:07:26 2020       \n",
            "+-----------------------------------------------------------------------------+\n",
            "| NVIDIA-SMI 455.45.01    Driver Version: 418.67       CUDA Version: 10.1     |\n",
            "|-------------------------------+----------------------+----------------------+\n",
            "| GPU  Name        Persistence-M| Bus-Id        Disp.A | Volatile Uncorr. ECC |\n",
            "| Fan  Temp  Perf  Pwr:Usage/Cap|         Memory-Usage | GPU-Util  Compute M. |\n",
            "|                               |                      |               MIG M. |\n",
            "|===============================+======================+======================|\n",
            "|   0  Tesla T4            Off  | 00000000:00:04.0 Off |                    0 |\n",
            "| N/A   70C    P8    11W /  70W |      0MiB / 15079MiB |      0%      Default |\n",
            "|                               |                      |                 ERR! |\n",
            "+-------------------------------+----------------------+----------------------+\n",
            "                                                                               \n",
            "+-----------------------------------------------------------------------------+\n",
            "| Processes:                                                                  |\n",
            "|  GPU   GI   CI        PID   Type   Process name                  GPU Memory |\n",
            "|        ID   ID                                                   Usage      |\n",
            "|=============================================================================|\n",
            "|  No running processes found                                                 |\n",
            "+-----------------------------------------------------------------------------+\n"
          ],
          "name": "stdout"
        }
      ]
    },
    {
      "cell_type": "code",
      "metadata": {
        "id": "3yWdHBi6T7DT"
      },
      "source": [
        "import os\n",
        "import librosa\n",
        "import numpy as np\n",
        "import scipy\n",
        "import matplotlib.pyplot as plt\n",
        "\n",
        "import tensorflow as tf\n",
        "from tensorflow.keras import layers, Model, optimizers, callbacks\n"
      ],
      "execution_count": null,
      "outputs": []
    },
    {
      "cell_type": "code",
      "metadata": {
        "colab": {
          "base_uri": "https://localhost:8080/"
        },
        "id": "9J9hlPR4T7Dg",
        "outputId": "da180a5e-9602-489f-ba66-4fc3e03b9806"
      },
      "source": [
        "files_n_classes = np.loadtxt(\n",
        "    fname= \"#shared_train/labels_train.csv\",\n",
        "    delimiter=\",\",\n",
        "    dtype='S',\n",
        "    skiprows=1\n",
        ").astype(str)\n",
        "\n",
        "for i in range(len(files_n_classes)):\n",
        "    files_n_classes[i][0] = files_n_classes[i][0].split('.')[0]\n",
        "\n",
        "unique_classes, counts = np.unique(files_n_classes[:,1], return_counts=True)\n",
        "\n",
        "# load train test and dev split saved in the following paths\n",
        "test_files_n_classes = np.loadtxt(\"cellar/test_files_n_classes.txt\", dtype=str)\n",
        "train_files_n_classes = np.loadtxt(\"cellar/train_files_n_classes.txt\", dtype=str)\n",
        "dev_files_n_classes = np.loadtxt(\"cellar/dev_files_n_classes.txt\", dtype=str)\n",
        "\n",
        "\n",
        "# asign numbers to denote each class and determine class weights\n",
        "train_labels = np.zeros((len(train_files_n_classes),), int)\n",
        "test_labels = np.zeros((len(test_files_n_classes),), int)\n",
        "dev_labels = np.zeros((len(dev_files_n_classes),), int)\n",
        "for i,c in enumerate(list(unique_classes)):\n",
        "    train_labels[np.argwhere(train_files_n_classes[:,1] == c)] = i\n",
        "    test_labels[np.argwhere(test_files_n_classes[:,1] == c)] = i\n",
        "    dev_labels[np.argwhere(dev_files_n_classes[:,1] == c)] = i\n",
        "\n",
        "\n",
        "# ref: Logistic Regression in Rare Events Data, King, Zen, 2001\n",
        "class_weights = len(train_labels) / (len(unique_classes) * np.bincount(train_labels))\n",
        "weights_dict = {i:w for i,w in enumerate(class_weights)}\n",
        "print(weights_dict)"
      ],
      "execution_count": null,
      "outputs": [
        {
          "output_type": "stream",
          "text": [
            "{0: 0.8672222222222222, 1: 2.6913793103448276, 2: 0.8672222222222222, 3: 0.8672222222222222, 4: 0.8672222222222222, 5: 0.8869318181818182, 6: 3.122, 7: 0.7095454545454546, 8: 0.9942675159235669, 9: 0.8672222222222222}\n"
          ],
          "name": "stdout"
        }
      ]
    },
    {
      "cell_type": "markdown",
      "metadata": {
        "id": "pk5O4Yb9T7Dj"
      },
      "source": [
        "# Model"
      ]
    },
    {
      "cell_type": "code",
      "metadata": {
        "colab": {
          "base_uri": "https://localhost:8080/"
        },
        "id": "aS_uwTmKT7Dj",
        "outputId": "3bfc64a2-8b58-4d8b-b80b-4c3b8cef8f1f"
      },
      "source": [
        "filter_sizes = [i for i in range(1, 26)]\n",
        "sif_input = layers.Input((None, 52))\n",
        "conv_outputs = []\n",
        "for kernel_size in filter_sizes:\n",
        "    x = layers.Conv1D(100, kernel_size, activation='relu')(sif_input)\n",
        "    x = layers.Dropout(0.50)(x)\n",
        "    x = layers.GlobalMaxPooling1D()(x)\n",
        "    conv_outputs.append(x)\n",
        "conv_output = layers.Concatenate()(conv_outputs)\n",
        "# conv_output = layers.ReLU()(conv_output)\n",
        "conv_output = layers.Dropout(0.50)(conv_output)\n",
        "outputs = layers.Dense(len(unique_classes), activation='softmax')(conv_output)\n",
        "\n",
        "model = Model(inputs= sif_input, outputs= outputs)\n",
        "model.add_loss(lambda : 0.0001*tf.add_n([tf.nn.l2_loss(w) for w in model.trainable_weights]))\n",
        "optimizer = optimizers.Adam(lr=0.001, decay=0.01)\n",
        "model.compile(optimizer= optimizer, \n",
        "            loss='categorical_crossentropy', \n",
        "            metrics=\"accuracy\")\n",
        "print(\"total params: \", model.count_params())"
      ],
      "execution_count": null,
      "outputs": [
        {
          "output_type": "stream",
          "text": [
            "total params:  1717510\n"
          ],
          "name": "stdout"
        }
      ]
    },
    {
      "cell_type": "markdown",
      "metadata": {
        "id": "4HhaNd_VT7Dk"
      },
      "source": [
        "## Training the model"
      ]
    },
    {
      "cell_type": "markdown",
      "metadata": {
        "id": "Z5z0rzVVcxEb"
      },
      "source": [
        "### function for extracting features"
      ]
    },
    {
      "cell_type": "code",
      "metadata": {
        "id": "6FXbeSbgcm_z"
      },
      "source": [
        "def extract_SIF(raw_spec, W=13, frequency_stride=10):\r\n",
        "    \"\"\"\r\n",
        "    raw_spec: spectogram of shape (Fbins, time)\r\n",
        "    Fbins: number of freq bins\r\n",
        "    returns: array of shape (F, time)\r\n",
        "    \"\"\"\r\n",
        "    # frequency downsampling into F bins \r\n",
        "    L = raw_spec.shape[0]\r\n",
        "    F = (L-W)//frequency_stride + 1\r\n",
        "    SIF = np.zeros((F, raw_spec.shape[1]))\r\n",
        "    for i in range(F):\r\n",
        "        freq_window = raw_spec[i*frequency_stride:i*frequency_stride+W]\r\n",
        "        SIF[i][:] = np.mean(freq_window, 0)    \r\n",
        "    # denoise\r\n",
        "    SIF_dn = SIF - np.min(SIF, axis=0)\r\n",
        "    # augment SIF_dn append per frame time tomain energy\r\n",
        "    energy_shorttime = np.sum(SIF_dn, axis=0)\r\n",
        "    SIF_aug = np.concatenate(\r\n",
        "        [SIF_dn, np.expand_dims(energy_shorttime, 0)], axis= 0)\r\n",
        "\r\n",
        "    return SIF_aug"
      ],
      "execution_count": null,
      "outputs": []
    },
    {
      "cell_type": "markdown",
      "metadata": {
        "id": "2I80U-FqdADQ"
      },
      "source": [
        "### data generator class"
      ]
    },
    {
      "cell_type": "code",
      "metadata": {
        "id": "PNKL1y5vdDoE"
      },
      "source": [
        "# the SIF generator for task 1\r\n",
        "class task1_SIF_generator():\r\n",
        "    def __init__(self, spec_files, labels, batch_size, not_infinite):\r\n",
        "        \"\"\"\r\n",
        "        spec_files: filepaths\r\n",
        "        labels: one-hot encoding list or np array \r\n",
        "        not_infinite: set True is generator should terminate\r\n",
        "        \"\"\"\r\n",
        "        self.count = 0\r\n",
        "        self.spec_files = spec_files\r\n",
        "        self.maxcount = len(spec_files)\r\n",
        "        self.labels = labels\r\n",
        "        self.batch_size = batch_size\r\n",
        "        self.not_infinite = not_infinite\r\n",
        "        self.continue_generation = True\r\n",
        "\r\n",
        "    def make_batch(self):\r\n",
        "        self.count = self.count % self.maxcount\r\n",
        "        MAX = self.count + self.batch_size\r\n",
        "\r\n",
        "        sifs = []\r\n",
        "        batch_labels = []\r\n",
        "        max_length = 0\r\n",
        "        for i in range(self.count, MAX):\r\n",
        "\r\n",
        "            idx = i % self.maxcount\r\n",
        "            batch_labels.append(self.labels[idx])\r\n",
        "            raw_spec = np.load(self.spec_files[idx], allow_pickle=True)\r\n",
        "            sif = extract_SIF(raw_spec)\r\n",
        "            sifs.append(sif)\r\n",
        "            max_length = max(max_length, sif.shape[1])\r\n",
        "\r\n",
        "            # terminate for non-infinite\r\n",
        "            if self.not_infinite and i >= self.maxcount-1: \r\n",
        "                self.continue_generation = False\r\n",
        "                break\r\n",
        "\r\n",
        "        self.count += self.batch_size\r\n",
        "        \r\n",
        "        for i in range(len(sifs)):\r\n",
        "            sif = sifs[i]\r\n",
        "            pad_len = max_length - sif.shape[1]\r\n",
        "            sifs[i] = np.pad(sif, ((0,0),(0,pad_len))).T\r\n",
        "\r\n",
        "        sifs = np.asarray(sifs, np.float32)\r\n",
        "        batch_labels = np.asarray(batch_labels)\r\n",
        "\r\n",
        "        return sifs, batch_labels\r\n",
        "        \r\n",
        "\r\n",
        "    def generator(self):\r\n",
        "        '''\r\n",
        "        files: np Array with file names as byte-strings\r\n",
        "        labels: integer labels\r\n",
        "        Output: np array of spectrograms, corresponding labels as a list\r\n",
        "        '''\r\n",
        "        while self.continue_generation:\r\n",
        "            yield self.make_batch()\r\n",
        "\r\n",
        "    def reset(self):\r\n",
        "        self.count = 0\r\n",
        "        self.continue_generation = True\r\n"
      ],
      "execution_count": null,
      "outputs": []
    },
    {
      "cell_type": "markdown",
      "metadata": {
        "id": "wl-qN55gdj_x"
      },
      "source": [
        "### make the data generators"
      ]
    },
    {
      "cell_type": "code",
      "metadata": {
        "id": "oWFEpYw9T7Dl"
      },
      "source": [
        "batch_size = 64\n",
        "\n",
        "# data-generator to load and pre-process spectrograms in batches\n",
        "train_datgenerator = task1_SIF_generator(\n",
        "    spec_files= [f\"cellar/spectograms/{fn}.npy\" for fn in train_files_n_classes[:, 0]],\n",
        "    labels= tf.one_hot(train_labels, len(unique_classes)).numpy(),\n",
        "    batch_size= batch_size,\n",
        "    not_infinite= False\n",
        ")\n",
        "\n",
        "dev_datgenerator = task1_SIF_generator(\n",
        "    spec_files= [f\"cellar/spectograms/{fn}.npy\" for fn in dev_files_n_classes[:, 0]],\n",
        "    labels= tf.one_hot(dev_labels, len(unique_classes)).numpy(),\n",
        "    batch_size= batch_size,\n",
        "    not_infinite= False\n",
        ")\n",
        "\n",
        "train_datgenerator = tf.data.Dataset.from_generator(\n",
        "    train_datgenerator.generator,\n",
        "    (tf.float32, tf.int32), \n",
        "    output_shapes= (tf.TensorShape((None, None, 52)), tf.TensorShape((None, 10)))\n",
        "    ).prefetch(tf.data.experimental.AUTOTUNE)\n",
        "\n",
        "dev_datgenerator = tf.data.Dataset.from_generator(\n",
        "    dev_datgenerator.generator,\n",
        "    (tf.float32, tf.int32), \n",
        "    output_shapes= (tf.TensorShape((None, None, 52)), tf.TensorShape((None, 10)))\n",
        "    ).prefetch(tf.data.experimental.AUTOTUNE)\n",
        "    "
      ],
      "execution_count": null,
      "outputs": []
    },
    {
      "cell_type": "code",
      "metadata": {
        "colab": {
          "base_uri": "https://localhost:8080/"
        },
        "id": "7pWVmhNPKvom",
        "outputId": "ca80aa94-d30b-4b79-9a99-19e7135aa12d"
      },
      "source": [
        "tf_log_num = \"2\"\r\n",
        "if os.path.exists(f\"cellar/run/task1/{tf_log_num}/model.save\"): \r\n",
        "    print(\"log dir exists\")\r\n",
        "    model = tf.keras.models.load_model(f\"cellar/run/task1/{tf_log_num}/model.save\")\r\n",
        "    model.summary()\r\n",
        "elif not os.path.exists(f'cellar/run/task1/{tf_log_num}'):\r\n",
        "    os.makedirs(f'cellar/run/task1/{tf_log_num}')\r\n",
        "    tf.keras.utils.plot_model(model, to_file=f'cellar/run/task1/{tf_log_num}/model.png', show_shapes=True)\r\n",
        "    "
      ],
      "execution_count": null,
      "outputs": [
        {
          "output_type": "stream",
          "text": [
            "log dir exists\n",
            "Model: \"functional_5\"\n",
            "__________________________________________________________________________________________________\n",
            "Layer (type)                    Output Shape         Param #     Connected to                     \n",
            "==================================================================================================\n",
            "input_3 (InputLayer)            [(None, None, 52)]   0                                            \n",
            "__________________________________________________________________________________________________\n",
            "conv1d_100 (Conv1D)             (None, None, 100)    5300        input_3[0][0]                    \n",
            "__________________________________________________________________________________________________\n",
            "conv1d_101 (Conv1D)             (None, None, 100)    10500       input_3[0][0]                    \n",
            "__________________________________________________________________________________________________\n",
            "conv1d_102 (Conv1D)             (None, None, 100)    15700       input_3[0][0]                    \n",
            "__________________________________________________________________________________________________\n",
            "conv1d_103 (Conv1D)             (None, None, 100)    20900       input_3[0][0]                    \n",
            "__________________________________________________________________________________________________\n",
            "conv1d_104 (Conv1D)             (None, None, 100)    26100       input_3[0][0]                    \n",
            "__________________________________________________________________________________________________\n",
            "conv1d_105 (Conv1D)             (None, None, 100)    31300       input_3[0][0]                    \n",
            "__________________________________________________________________________________________________\n",
            "conv1d_106 (Conv1D)             (None, None, 100)    36500       input_3[0][0]                    \n",
            "__________________________________________________________________________________________________\n",
            "conv1d_107 (Conv1D)             (None, None, 100)    41700       input_3[0][0]                    \n",
            "__________________________________________________________________________________________________\n",
            "conv1d_108 (Conv1D)             (None, None, 100)    46900       input_3[0][0]                    \n",
            "__________________________________________________________________________________________________\n",
            "conv1d_109 (Conv1D)             (None, None, 100)    52100       input_3[0][0]                    \n",
            "__________________________________________________________________________________________________\n",
            "conv1d_110 (Conv1D)             (None, None, 100)    57300       input_3[0][0]                    \n",
            "__________________________________________________________________________________________________\n",
            "conv1d_111 (Conv1D)             (None, None, 100)    62500       input_3[0][0]                    \n",
            "__________________________________________________________________________________________________\n",
            "conv1d_112 (Conv1D)             (None, None, 100)    67700       input_3[0][0]                    \n",
            "__________________________________________________________________________________________________\n",
            "conv1d_113 (Conv1D)             (None, None, 100)    72900       input_3[0][0]                    \n",
            "__________________________________________________________________________________________________\n",
            "conv1d_114 (Conv1D)             (None, None, 100)    78100       input_3[0][0]                    \n",
            "__________________________________________________________________________________________________\n",
            "conv1d_115 (Conv1D)             (None, None, 100)    83300       input_3[0][0]                    \n",
            "__________________________________________________________________________________________________\n",
            "conv1d_116 (Conv1D)             (None, None, 100)    88500       input_3[0][0]                    \n",
            "__________________________________________________________________________________________________\n",
            "conv1d_117 (Conv1D)             (None, None, 100)    93700       input_3[0][0]                    \n",
            "__________________________________________________________________________________________________\n",
            "conv1d_118 (Conv1D)             (None, None, 100)    98900       input_3[0][0]                    \n",
            "__________________________________________________________________________________________________\n",
            "conv1d_119 (Conv1D)             (None, None, 100)    104100      input_3[0][0]                    \n",
            "__________________________________________________________________________________________________\n",
            "conv1d_120 (Conv1D)             (None, None, 100)    109300      input_3[0][0]                    \n",
            "__________________________________________________________________________________________________\n",
            "conv1d_121 (Conv1D)             (None, None, 100)    114500      input_3[0][0]                    \n",
            "__________________________________________________________________________________________________\n",
            "conv1d_122 (Conv1D)             (None, None, 100)    119700      input_3[0][0]                    \n",
            "__________________________________________________________________________________________________\n",
            "conv1d_123 (Conv1D)             (None, None, 100)    124900      input_3[0][0]                    \n",
            "__________________________________________________________________________________________________\n",
            "conv1d_124 (Conv1D)             (None, None, 100)    130100      input_3[0][0]                    \n",
            "__________________________________________________________________________________________________\n",
            "dropout_102 (Dropout)           (None, None, 100)    0           conv1d_100[0][0]                 \n",
            "__________________________________________________________________________________________________\n",
            "dropout_103 (Dropout)           (None, None, 100)    0           conv1d_101[0][0]                 \n",
            "__________________________________________________________________________________________________\n",
            "dropout_104 (Dropout)           (None, None, 100)    0           conv1d_102[0][0]                 \n",
            "__________________________________________________________________________________________________\n",
            "dropout_105 (Dropout)           (None, None, 100)    0           conv1d_103[0][0]                 \n",
            "__________________________________________________________________________________________________\n",
            "dropout_106 (Dropout)           (None, None, 100)    0           conv1d_104[0][0]                 \n",
            "__________________________________________________________________________________________________\n",
            "dropout_107 (Dropout)           (None, None, 100)    0           conv1d_105[0][0]                 \n",
            "__________________________________________________________________________________________________\n",
            "dropout_108 (Dropout)           (None, None, 100)    0           conv1d_106[0][0]                 \n",
            "__________________________________________________________________________________________________\n",
            "dropout_109 (Dropout)           (None, None, 100)    0           conv1d_107[0][0]                 \n",
            "__________________________________________________________________________________________________\n",
            "dropout_110 (Dropout)           (None, None, 100)    0           conv1d_108[0][0]                 \n",
            "__________________________________________________________________________________________________\n",
            "dropout_111 (Dropout)           (None, None, 100)    0           conv1d_109[0][0]                 \n",
            "__________________________________________________________________________________________________\n",
            "dropout_112 (Dropout)           (None, None, 100)    0           conv1d_110[0][0]                 \n",
            "__________________________________________________________________________________________________\n",
            "dropout_113 (Dropout)           (None, None, 100)    0           conv1d_111[0][0]                 \n",
            "__________________________________________________________________________________________________\n",
            "dropout_114 (Dropout)           (None, None, 100)    0           conv1d_112[0][0]                 \n",
            "__________________________________________________________________________________________________\n",
            "dropout_115 (Dropout)           (None, None, 100)    0           conv1d_113[0][0]                 \n",
            "__________________________________________________________________________________________________\n",
            "dropout_116 (Dropout)           (None, None, 100)    0           conv1d_114[0][0]                 \n",
            "__________________________________________________________________________________________________\n",
            "dropout_117 (Dropout)           (None, None, 100)    0           conv1d_115[0][0]                 \n",
            "__________________________________________________________________________________________________\n",
            "dropout_118 (Dropout)           (None, None, 100)    0           conv1d_116[0][0]                 \n",
            "__________________________________________________________________________________________________\n",
            "dropout_119 (Dropout)           (None, None, 100)    0           conv1d_117[0][0]                 \n",
            "__________________________________________________________________________________________________\n",
            "dropout_120 (Dropout)           (None, None, 100)    0           conv1d_118[0][0]                 \n",
            "__________________________________________________________________________________________________\n",
            "dropout_121 (Dropout)           (None, None, 100)    0           conv1d_119[0][0]                 \n",
            "__________________________________________________________________________________________________\n",
            "dropout_122 (Dropout)           (None, None, 100)    0           conv1d_120[0][0]                 \n",
            "__________________________________________________________________________________________________\n",
            "dropout_123 (Dropout)           (None, None, 100)    0           conv1d_121[0][0]                 \n",
            "__________________________________________________________________________________________________\n",
            "dropout_124 (Dropout)           (None, None, 100)    0           conv1d_122[0][0]                 \n",
            "__________________________________________________________________________________________________\n",
            "dropout_125 (Dropout)           (None, None, 100)    0           conv1d_123[0][0]                 \n",
            "__________________________________________________________________________________________________\n",
            "dropout_126 (Dropout)           (None, None, 100)    0           conv1d_124[0][0]                 \n",
            "__________________________________________________________________________________________________\n",
            "global_max_pooling1d_50 (Global (None, 100)          0           dropout_102[0][0]                \n",
            "__________________________________________________________________________________________________\n",
            "global_max_pooling1d_51 (Global (None, 100)          0           dropout_103[0][0]                \n",
            "__________________________________________________________________________________________________\n",
            "global_max_pooling1d_52 (Global (None, 100)          0           dropout_104[0][0]                \n",
            "__________________________________________________________________________________________________\n",
            "global_max_pooling1d_53 (Global (None, 100)          0           dropout_105[0][0]                \n",
            "__________________________________________________________________________________________________\n",
            "global_max_pooling1d_54 (Global (None, 100)          0           dropout_106[0][0]                \n",
            "__________________________________________________________________________________________________\n",
            "global_max_pooling1d_55 (Global (None, 100)          0           dropout_107[0][0]                \n",
            "__________________________________________________________________________________________________\n",
            "global_max_pooling1d_56 (Global (None, 100)          0           dropout_108[0][0]                \n",
            "__________________________________________________________________________________________________\n",
            "global_max_pooling1d_57 (Global (None, 100)          0           dropout_109[0][0]                \n",
            "__________________________________________________________________________________________________\n",
            "global_max_pooling1d_58 (Global (None, 100)          0           dropout_110[0][0]                \n",
            "__________________________________________________________________________________________________\n",
            "global_max_pooling1d_59 (Global (None, 100)          0           dropout_111[0][0]                \n",
            "__________________________________________________________________________________________________\n",
            "global_max_pooling1d_60 (Global (None, 100)          0           dropout_112[0][0]                \n",
            "__________________________________________________________________________________________________\n",
            "global_max_pooling1d_61 (Global (None, 100)          0           dropout_113[0][0]                \n",
            "__________________________________________________________________________________________________\n",
            "global_max_pooling1d_62 (Global (None, 100)          0           dropout_114[0][0]                \n",
            "__________________________________________________________________________________________________\n",
            "global_max_pooling1d_63 (Global (None, 100)          0           dropout_115[0][0]                \n",
            "__________________________________________________________________________________________________\n",
            "global_max_pooling1d_64 (Global (None, 100)          0           dropout_116[0][0]                \n",
            "__________________________________________________________________________________________________\n",
            "global_max_pooling1d_65 (Global (None, 100)          0           dropout_117[0][0]                \n",
            "__________________________________________________________________________________________________\n",
            "global_max_pooling1d_66 (Global (None, 100)          0           dropout_118[0][0]                \n",
            "__________________________________________________________________________________________________\n",
            "global_max_pooling1d_67 (Global (None, 100)          0           dropout_119[0][0]                \n",
            "__________________________________________________________________________________________________\n",
            "global_max_pooling1d_68 (Global (None, 100)          0           dropout_120[0][0]                \n",
            "__________________________________________________________________________________________________\n",
            "global_max_pooling1d_69 (Global (None, 100)          0           dropout_121[0][0]                \n",
            "__________________________________________________________________________________________________\n",
            "global_max_pooling1d_70 (Global (None, 100)          0           dropout_122[0][0]                \n",
            "__________________________________________________________________________________________________\n",
            "global_max_pooling1d_71 (Global (None, 100)          0           dropout_123[0][0]                \n",
            "__________________________________________________________________________________________________\n",
            "global_max_pooling1d_72 (Global (None, 100)          0           dropout_124[0][0]                \n",
            "__________________________________________________________________________________________________\n",
            "global_max_pooling1d_73 (Global (None, 100)          0           dropout_125[0][0]                \n",
            "__________________________________________________________________________________________________\n",
            "global_max_pooling1d_74 (Global (None, 100)          0           dropout_126[0][0]                \n",
            "__________________________________________________________________________________________________\n",
            "concatenate_2 (Concatenate)     (None, 2500)         0           global_max_pooling1d_50[0][0]    \n",
            "                                                                 global_max_pooling1d_51[0][0]    \n",
            "                                                                 global_max_pooling1d_52[0][0]    \n",
            "                                                                 global_max_pooling1d_53[0][0]    \n",
            "                                                                 global_max_pooling1d_54[0][0]    \n",
            "                                                                 global_max_pooling1d_55[0][0]    \n",
            "                                                                 global_max_pooling1d_56[0][0]    \n",
            "                                                                 global_max_pooling1d_57[0][0]    \n",
            "                                                                 global_max_pooling1d_58[0][0]    \n",
            "                                                                 global_max_pooling1d_59[0][0]    \n",
            "                                                                 global_max_pooling1d_60[0][0]    \n",
            "                                                                 global_max_pooling1d_61[0][0]    \n",
            "                                                                 global_max_pooling1d_62[0][0]    \n",
            "                                                                 global_max_pooling1d_63[0][0]    \n",
            "                                                                 global_max_pooling1d_64[0][0]    \n",
            "                                                                 global_max_pooling1d_65[0][0]    \n",
            "                                                                 global_max_pooling1d_66[0][0]    \n",
            "                                                                 global_max_pooling1d_67[0][0]    \n",
            "                                                                 global_max_pooling1d_68[0][0]    \n",
            "                                                                 global_max_pooling1d_69[0][0]    \n",
            "                                                                 global_max_pooling1d_70[0][0]    \n",
            "                                                                 global_max_pooling1d_71[0][0]    \n",
            "                                                                 global_max_pooling1d_72[0][0]    \n",
            "                                                                 global_max_pooling1d_73[0][0]    \n",
            "                                                                 global_max_pooling1d_74[0][0]    \n",
            "__________________________________________________________________________________________________\n",
            "re_lu_2 (ReLU)                  (None, 2500)         0           concatenate_2[0][0]              \n",
            "__________________________________________________________________________________________________\n",
            "dense_2 (Dense)                 (None, 10)           25010       re_lu_2[0][0]                    \n",
            "==================================================================================================\n",
            "Total params: 1,717,510\n",
            "Trainable params: 1,717,510\n",
            "Non-trainable params: 0\n",
            "__________________________________________________________________________________________________\n"
          ],
          "name": "stdout"
        }
      ]
    },
    {
      "cell_type": "code",
      "metadata": {
        "id": "TknvxA4PT7Dl"
      },
      "source": [
        "# training model\n",
        "model.fit(train_datgenerator,\n",
        "            validation_data= dev_datgenerator,\n",
        "            validation_steps= len(dev_files_n_classes)//batch_size,\n",
        "            epochs=500,\n",
        "            class_weight= weights_dict,\n",
        "            steps_per_epoch=len(train_files_n_classes)//batch_size,\n",
        "            callbacks=[\n",
        "                callbacks.TensorBoard(log_dir=f'cellar/run/task1/{tf_log_num}/logs', \n",
        "                                    histogram_freq=8, write_images=True),\n",
        "                callbacks.ModelCheckpoint(f\"cellar/run/task1/{tf_log_num}/ckeckpoints\", \n",
        "                                    verbose=1, save_best_only=True),\n",
        "                callbacks.ReduceLROnPlateau(monitor='loss', factor=0.1, verbose=1, min_delta=0.001),\n",
        "                callbacks.EarlyStopping(patience=10, restore_best_weights=True),\n",
        "            ]\n",
        "            )"
      ],
      "execution_count": null,
      "outputs": []
    },
    {
      "cell_type": "code",
      "metadata": {
        "colab": {
          "base_uri": "https://localhost:8080/"
        },
        "id": "txCP2EFST7Dm",
        "outputId": "ac6f73b3-93ec-48a2-bbcd-075752d795e4"
      },
      "source": [
        "# save it\n",
        "model.save(filepath=f\"cellar/run/task1/{tf_log_num}/model.save\")"
      ],
      "execution_count": null,
      "outputs": [
        {
          "output_type": "stream",
          "text": [
            "INFO:tensorflow:Assets written to: cellar/run/task1/3/model.save/assets\n"
          ],
          "name": "stdout"
        }
      ]
    },
    {
      "cell_type": "code",
      "metadata": {
        "colab": {
          "base_uri": "https://localhost:8080/"
        },
        "id": "b1SXgoaAT7Dm",
        "outputId": "72a28b48-892c-4e81-8dfc-e6d7079be8be"
      },
      "source": [
        "# evaluating model\n",
        "# model = tf.keras.models.load_model(f\"cellar/run/task1/{tf_log_num}/model.save\")\n",
        "test_generator = task1_SIF_generator(\n",
        "    spec_files= [f\"cellar/spectograms/{fn}.npy\" for fn in test_files_n_classes[:, 0]],\n",
        "    labels= tf.one_hot(test_labels, len(unique_classes)).numpy(),\n",
        "    batch_size= 32,\n",
        "    not_infinite= True\n",
        ")\n",
        "dev_generator = task1_SIF_generator(\n",
        "    spec_files= [f\"cellar/spectograms/{fn}.npy\" for fn in dev_files_n_classes[:, 0]],\n",
        "    labels= tf.one_hot(dev_labels, len(unique_classes)).numpy(),\n",
        "    batch_size= batch_size,\n",
        "    not_infinite= True\n",
        ")\n",
        "model.evaluate(test_generator.generator())\n",
        "model.evaluate(dev_generator.generator())"
      ],
      "execution_count": null,
      "outputs": [
        {
          "output_type": "stream",
          "text": [
            "4/4 [==============================] - 0s 57ms/step - loss: 0.8184 - accuracy: 0.8300\n",
            "2/2 [==============================] - 9s 5s/step - loss: 1.2287 - accuracy: 0.8500\n"
          ],
          "name": "stdout"
        },
        {
          "output_type": "execute_result",
          "data": {
            "text/plain": [
              "[1.2287181615829468, 0.8500000238418579]"
            ]
          },
          "metadata": {
            "tags": []
          },
          "execution_count": 17
        }
      ]
    },
    {
      "cell_type": "code",
      "metadata": {
        "colab": {
          "base_uri": "https://localhost:8080/",
          "height": 1000
        },
        "id": "dlnDuxaBT7Dn",
        "outputId": "5b23d446-04ac-4125-a4e0-4cea7e1af7b7"
      },
      "source": [
        "# confusion mat\n",
        "from sklearn.metrics import ConfusionMatrixDisplay, precision_recall_fscore_support\n",
        "from tabulate import tabulate\n",
        "def plot_conf(data_gen, unique_classes, decl=''):\n",
        "    print(decl)\n",
        "    data_gen.reset()\n",
        "    p = tf.argmax(model.predict(data_gen.generator()), 1)\n",
        "    data_gen.reset()\n",
        "    t = tf.argmax(np.concatenate([y for i,y in data_gen.generator()], 0), 1)\n",
        "    confusion_matrix = tf.math.confusion_matrix(t, p, 10)\n",
        "\n",
        "    disp = ConfusionMatrixDisplay(confusion_matrix=confusion_matrix.numpy(), display_labels=unique_classes)\n",
        "    disp.plot(include_values=True, cmap=plt.cm.Blues, ax=None, xticks_rotation=\"vertical\")\n",
        "    plt.savefig(f\"cellar/run/task1/{tf_log_num}/test_confusion_matrix.png\", format=\"png\")\n",
        "    plt.show()\n",
        "\n",
        "    precision, recall, fbeta_score, support = precision_recall_fscore_support(unique_classes[t], unique_classes[p], labels=unique_classes)\n",
        "    \n",
        "    table = []\n",
        "    for i,c in enumerate(unique_classes):\n",
        "        table.append([c, precision[i], recall[i], fbeta_score[i], support[i]])\n",
        "    print(tabulate(table, headers=[\"classes\", \"precision\", \"recall\", \"fscore\", \"support\"]), \"\\n\\n\")\n",
        "\n",
        "plot_conf(test_generator, unique_classes, \"testset\")\n",
        "plot_conf(dev_generator, unique_classes, \"devset\")"
      ],
      "execution_count": null,
      "outputs": [
        {
          "output_type": "stream",
          "text": [
            "testset\n"
          ],
          "name": "stdout"
        },
        {
          "output_type": "display_data",
          "data": {
            "image/png": "[encoded data removed]",
            "text/plain": [
              "<Figure size 432x288 with 2 Axes>"
            ]
          },
          "metadata": {
            "tags": [],
            "needs_background": "light"
          }
        },
        {
          "output_type": "stream",
          "text": [
            "classes             precision    recall    fscore    support\n",
            "----------------  -----------  --------  --------  ---------\n",
            "air_conditioner      0.9            0.9  0.9              10\n",
            "car_horn             0.888889       0.8  0.842105         10\n",
            "children_playing     0.615385       0.8  0.695652         10\n",
            "dog_bark             0.777778       0.7  0.736842         10\n",
            "drilling             1              0.7  0.823529         10\n",
            "engine_idling        0.875          0.7  0.777778         10\n",
            "gun_shot             1              0.9  0.947368         10\n",
            "jackhammer           1              1    1                10\n",
            "siren                0.666667       1    0.8              10\n",
            "street_music         0.8            0.8  0.8              10 \n",
            "\n",
            "\n",
            "devset\n"
          ],
          "name": "stdout"
        },
        {
          "output_type": "display_data",
          "data": {
            "image/png": "[encoded data removed]",
            "text/plain": [
              "<Figure size 432x288 with 2 Axes>"
            ]
          },
          "metadata": {
            "tags": [],
            "needs_background": "light"
          }
        },
        {
          "output_type": "stream",
          "text": [
            "classes             precision    recall    fscore    support\n",
            "----------------  -----------  --------  --------  ---------\n",
            "air_conditioner      0.727273       0.8  0.761905         10\n",
            "car_horn             0.9            0.9  0.9              10\n",
            "children_playing     0.642857       0.9  0.75             10\n",
            "dog_bark             0.8            0.8  0.8              10\n",
            "drilling             1              0.8  0.888889         10\n",
            "engine_idling        0.9            0.9  0.9              10\n",
            "gun_shot             1              0.9  0.947368         10\n",
            "jackhammer           0.909091       1    0.952381         10\n",
            "siren                0.9            0.9  0.9              10\n",
            "street_music         0.857143       0.6  0.705882         10 \n",
            "\n",
            "\n"
          ],
          "name": "stdout"
        }
      ]
    },
    {
      "cell_type": "markdown",
      "metadata": {
        "id": "tUH5sI-kT7Dn"
      },
      "source": [
        "# Predict function for inference"
      ]
    },
    {
      "cell_type": "code",
      "metadata": {
        "id": "z9pslUlQT7Dn"
      },
      "source": [
        "# make sure you have loaded the model before\n",
        "unique_classes = np.array(['air_conditioner', 'car_horn', 'children_playing', 'dog_bark', 'drilling', 'engine_idling', 'gun_shot', 'jackhammer', 'siren', 'street_music'])\n",
        "def Predict(spec, unique_classes):\n",
        "    sif = extract_SIF(spec)\n",
        "    if sif.shape[1] < 50:\n",
        "        pad_len = 50 - sif.shape[1]\n",
        "        sif = np.pad(sif, ((0,0),(0,pad_len)))\n",
        "    pred = model(tf.expand_dims(sif.T, 0)).numpy()\n",
        "    return unique_classes[np.argmax(pred)]"
      ],
      "execution_count": null,
      "outputs": []
    },
    {
      "cell_type": "markdown",
      "metadata": {
        "id": "xq-seENplgJq"
      },
      "source": [
        "# Predict on all spectogram files in the 'test_feat_path' folder"
      ]
    },
    {
      "cell_type": "code",
      "metadata": {
        "id": "g40tQk66m6AH"
      },
      "source": [
        "\r\n",
        "est_save_path = \"task1_labels_test.csv\"\r\n",
        "# est_save_path = \"cellar/temp/task1/est.csv\"\r\n",
        "\r\n",
        "test_feat_path= \"test_task1/feats\"\r\n",
        "# test_feat_path= \"#shared_train/sample_test_task1/feats\""
      ],
      "execution_count": null,
      "outputs": []
    },
    {
      "cell_type": "code",
      "metadata": {
        "id": "MrZ5sCGkpUi7"
      },
      "source": [
        "# make the predictions and save as a csv file\r\n",
        "predictions = []\r\n",
        "for f in os.listdir(test_feat_path):\r\n",
        "    spec = np.load(f\"{test_feat_path}/{f}\")\r\n",
        "    predictions.append([f.split('.')[0], Predict(spec, unique_classes)])\r\n",
        "if not os.path.exists(\"cellar/temp/task1\"): os.makedirs(\"cellar/temp/task1\")\r\n",
        "np.savetxt(est_save_path, predictions, delimiter =\",\",  fmt ='%s') "
      ],
      "execution_count": null,
      "outputs": []
    },
    {
      "cell_type": "markdown",
      "metadata": {
        "id": "U3pC6GfLm1RE"
      },
      "source": [
        "# for running on score function from utils"
      ]
    },
    {
      "cell_type": "code",
      "metadata": {
        "id": "XvvrPPYFnFco"
      },
      "source": [
        "# !pip install python-Levenshtein"
      ],
      "execution_count": null,
      "outputs": []
    },
    {
      "cell_type": "code",
      "metadata": {
        "id": "vZ-XCxAclMIs"
      },
      "source": [
        "import utils # the utils.py given for evaluation"
      ],
      "execution_count": null,
      "outputs": []
    },
    {
      "cell_type": "code",
      "metadata": {
        "id": "A11K2LRPPwbF"
      },
      "source": [
        "ground_truth_labels_path = \"#shared_train/sample_test_task1/labels.csv\""
      ],
      "execution_count": null,
      "outputs": []
    },
    {
      "cell_type": "code",
      "metadata": {
        "colab": {
          "base_uri": "https://localhost:8080/"
        },
        "id": "21i1rvQnqX36",
        "outputId": "4da49f75-9ff5-49c3-a188-2d8e19de6735"
      },
      "source": [
        "print(\"score:\", utils.evals(ground_truth_labels_path, est_save_path, 1))\r\n",
        "p = utils.read_csv(est_save_path)\r\n",
        "t = utils.read_csv(ground_truth_labels_path)\r\n",
        "for k in sorted(p.keys()):\r\n",
        "    print(f\"{k}:\", f\" pred: \", p[k], \"\\n\", \"\".join([\" \"]*len(f\"{k}\")), \" gndt: \", t[k])"
      ],
      "execution_count": null,
      "outputs": [
        {
          "output_type": "stream",
          "text": [
            "score: 0.8\n",
            "a00001:  pred:  drilling \n",
            "         gndt:  drilling\n",
            "a00002:  pred:  drilling \n",
            "         gndt:  drilling\n",
            "a00003:  pred:  drilling \n",
            "         gndt:  drilling\n",
            "a00004:  pred:  street_music \n",
            "         gndt:  street_music\n",
            "a00005:  pred:  jackhammer \n",
            "         gndt:  jackhammer\n",
            "a00006:  pred:  dog_bark \n",
            "         gndt:  dog_bark\n",
            "a00007:  pred:  children_playing \n",
            "         gndt:  children_playing\n",
            "a00008:  pred:  drilling \n",
            "         gndt:  drilling\n",
            "a00009:  pred:  siren \n",
            "         gndt:  engine_idling\n",
            "a00010:  pred:  engine_idling \n",
            "         gndt:  dog_bark\n"
          ],
          "name": "stdout"
        }
      ]
    },
    {
      "cell_type": "code",
      "metadata": {
        "id": "s-eHpNrMu5F9"
      },
      "source": [
        ""
      ],
      "execution_count": null,
      "outputs": []
    }
  ]
}